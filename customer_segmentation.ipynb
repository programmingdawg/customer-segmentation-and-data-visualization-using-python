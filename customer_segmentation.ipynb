{
 "cells": [
  {
   "cell_type": "code",
   "execution_count": null,
   "metadata": {},
   "outputs": [],
   "source": [
    "import pandas as pd\n",
    "import plotly.express as px\n",
    "data = pd.read_csv(r'D:\\my projects\\segmentataion\\myvenv\\Online Shop Customer Sales Data.csv')\n",
    "\n",
    "data['Purchase_DATE'] = pd.to_datetime(data['Purchase_DATE'], format=\"%d.%m.%y\")\n",
    "\n",
    "data.drop_duplicates(inplace=True)\n",
    "data.dropna(inplace=True)\n",
    "data.reset_index(drop=True, inplace=True)\n",
    "data.head(2)\n",
    "\n",
    "\n"
   ]
  },
  {
   "cell_type": "code",
   "execution_count": 3,
   "metadata": {},
   "outputs": [],
   "source": [
    "# customer segmentation\n",
    "segmented = data.groupby('Customer_id').agg({\n",
    "   'Purchase_VALUE' : 'sum',\n",
    "   'Revenue_Total' : 'sum',\n",
    "   'N_Purchases' : 'sum',\n",
    "   'Time_Spent' : 'sum'\n",
    "}).reset_index()\n"
   ]
  },
  {
   "cell_type": "code",
   "execution_count": null,
   "metadata": {},
   "outputs": [],
   "source": [
    "# purchase behaviour analysis\n",
    "# creating a Month column to analyze purchase behaviour of customers with time\n",
    "data['month'] = pd.DatetimeIndex(data['Purchase_DATE']).month\n",
    "\n",
    "monthly_data = data.groupby( 'month')['N_Purchases'].sum().reset_index()   \n",
    "\n",
    "\n",
    "\n",
    "#px.line(monthly_data, x='month', y='N_Purchases', title='Monthly Purchase Behaviour')\n",
    "# monthly purchase behaviour by age\n",
    "# categorizing the age into groups\n",
    "\n",
    "data['age_category'] = pd.cut(data['Age'], bins=[0, 20, 40, 60, 100], labels=['0-20', '20-40', '40-60', '60+'])\n",
    "\n",
    "age_monthly_data = data.groupby(['month', 'age_category'])['N_Purchases'].sum().reset_index()\n",
    "\n",
    "px.bar(age_monthly_data, x='month', y='N_Purchases', color='age_category', title='Monthly Purchase Behaviour')\n",
    "\n",
    "# purchase behaviour by gender\n",
    "\n",
    "gender_monthly_data = data.groupby(['month', 'Gender'])['N_Purchases'].sum().reset_index()\n",
    "\n",
    "px.line(gender_monthly_data, x='month', y='N_Purchases', color='Gender', title='Monthly Purchase Behaviour by Gender')"
   ]
  },
  {
   "cell_type": "code",
   "execution_count": null,
   "metadata": {},
   "outputs": [],
   "source": [
    "# payment mathod analysis\n",
    "\n",
    "# visualizing correlation between payment methods and purchase value\n",
    "\n",
    "data['purchase_value_category'] = pd.cut(data['Purchase_VALUE'], bins=12, labels=['0-5', '5-10', '10-15', '15-20', '20-25', '25-30', '30-35', '35-40', '40-45', '45-50', '50-55', '55-60'])\n",
    "\n",
    "\n",
    "payment_method_data = data.groupby(['purchase_value_category', 'Pay_Method'])['Customer_id'].count().reset_index()\n",
    "payment_method_data.rename(columns={'Customer_id': 'Customer_Count'}, inplace=True)\n",
    "\n",
    "high_value_customers = payment_method_data[(payment_method_data['purchase_value_category'] == '50-55') |\n",
    "                                           (payment_method_data['purchase_value_category'] == '55-60')]\n",
    "\n",
    "high_value_customers\n",
    "\n",
    "\n",
    "fig = px.bar(payment_method_data, \n",
    "             x='purchase_value_category', \n",
    "             y='Customer_Count', \n",
    "             color='Pay_Method', \n",
    "             barmode='group',  # Ensures bars are grouped by payment method\n",
    "             labels={'purchase_value_category':'Purchase Value Category', 'Customer_Count':'Number of Customers', 'Pay_Method':'Payment Method'},\n",
    "             title=\"Number of Customers by Purchase Value Category and Payment Method\")\n",
    "\n",
    "# Show the plot\n",
    "fig.show()"
   ]
  },
  {
   "cell_type": "code",
   "execution_count": null,
   "metadata": {},
   "outputs": [],
   "source": [
    "data[\"time_in_mins\"] = data[\"Time_Spent\"] / 60\n",
    "px.scatter(data, x='time_in_mins', y='Purchase_VALUE',  title='Time Spent vs. Purchase Value')"
   ]
  },
  {
   "cell_type": "code",
   "execution_count": null,
   "metadata": {},
   "outputs": [],
   "source": [
    "\n",
    "data['Group'] = data['Newsletter'].astype(str) + ' & ' + data['Voucher'].astype(str)\n",
    "px.histogram(data, x='purchase_value_category', color='Group',  title='Time Spent vs. Purchase Value')\n",
    "\n",
    "\n"
   ]
  },
  {
   "cell_type": "code",
   "execution_count": 10,
   "metadata": {},
   "outputs": [
    {
     "data": {
      "text/html": [
       "<div>\n",
       "<style scoped>\n",
       "    .dataframe tbody tr th:only-of-type {\n",
       "        vertical-align: middle;\n",
       "    }\n",
       "\n",
       "    .dataframe tbody tr th {\n",
       "        vertical-align: top;\n",
       "    }\n",
       "\n",
       "    .dataframe thead th {\n",
       "        text-align: right;\n",
       "    }\n",
       "</style>\n",
       "<table border=\"1\" class=\"dataframe\">\n",
       "  <thead>\n",
       "    <tr style=\"text-align: right;\">\n",
       "      <th></th>\n",
       "      <th>Customer_id</th>\n",
       "      <th>Age</th>\n",
       "      <th>Gender</th>\n",
       "      <th>Revenue_Total</th>\n",
       "      <th>N_Purchases</th>\n",
       "      <th>Purchase_DATE</th>\n",
       "      <th>Purchase_VALUE</th>\n",
       "      <th>Pay_Method</th>\n",
       "      <th>Time_Spent</th>\n",
       "      <th>Browser</th>\n",
       "      <th>Newsletter</th>\n",
       "      <th>Voucher</th>\n",
       "      <th>month</th>\n",
       "      <th>age_category</th>\n",
       "      <th>purchase_value_category</th>\n",
       "      <th>time_in_mins</th>\n",
       "      <th>Group</th>\n",
       "    </tr>\n",
       "  </thead>\n",
       "  <tbody>\n",
       "    <tr>\n",
       "      <th>0</th>\n",
       "      <td>504308</td>\n",
       "      <td>53</td>\n",
       "      <td>0</td>\n",
       "      <td>45.3</td>\n",
       "      <td>2</td>\n",
       "      <td>2021-06-22</td>\n",
       "      <td>24.915</td>\n",
       "      <td>1</td>\n",
       "      <td>885</td>\n",
       "      <td>0</td>\n",
       "      <td>0</td>\n",
       "      <td>0</td>\n",
       "      <td>6</td>\n",
       "      <td>40-60</td>\n",
       "      <td>20-25</td>\n",
       "      <td>14.750000</td>\n",
       "      <td>0 &amp; 0</td>\n",
       "    </tr>\n",
       "    <tr>\n",
       "      <th>1</th>\n",
       "      <td>504309</td>\n",
       "      <td>18</td>\n",
       "      <td>1</td>\n",
       "      <td>36.2</td>\n",
       "      <td>3</td>\n",
       "      <td>2021-12-10</td>\n",
       "      <td>2.896</td>\n",
       "      <td>2</td>\n",
       "      <td>656</td>\n",
       "      <td>0</td>\n",
       "      <td>0</td>\n",
       "      <td>1</td>\n",
       "      <td>12</td>\n",
       "      <td>0-20</td>\n",
       "      <td>0-5</td>\n",
       "      <td>10.933333</td>\n",
       "      <td>0 &amp; 1</td>\n",
       "    </tr>\n",
       "  </tbody>\n",
       "</table>\n",
       "</div>"
      ],
      "text/plain": [
       "   Customer_id  Age  Gender  Revenue_Total  N_Purchases Purchase_DATE  \\\n",
       "0       504308   53       0           45.3            2    2021-06-22   \n",
       "1       504309   18       1           36.2            3    2021-12-10   \n",
       "\n",
       "   Purchase_VALUE  Pay_Method  Time_Spent  Browser  Newsletter  Voucher  \\\n",
       "0          24.915           1         885        0           0        0   \n",
       "1           2.896           2         656        0           0        1   \n",
       "\n",
       "   month age_category purchase_value_category  time_in_mins  Group  \n",
       "0      6        40-60                   20-25     14.750000  0 & 0  \n",
       "1     12         0-20                     0-5     10.933333  0 & 1  "
      ]
     },
     "execution_count": 10,
     "metadata": {},
     "output_type": "execute_result"
    }
   ],
   "source": [
    "data.head(2)"
   ]
  },
  {
   "cell_type": "code",
   "execution_count": null,
   "metadata": {},
   "outputs": [],
   "source": []
  }
 ],
 "metadata": {
  "kernelspec": {
   "display_name": "myvenv",
   "language": "python",
   "name": "python3"
  },
  "language_info": {
   "codemirror_mode": {
    "name": "ipython",
    "version": 3
   },
   "file_extension": ".py",
   "mimetype": "text/x-python",
   "name": "python",
   "nbconvert_exporter": "python",
   "pygments_lexer": "ipython3",
   "version": "3.12.4"
  }
 },
 "nbformat": 4,
 "nbformat_minor": 2
}
